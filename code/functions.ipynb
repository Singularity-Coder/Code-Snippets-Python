{
 "cells": [
  {
   "cell_type": "code",
   "execution_count": 12,
   "id": "e16dfff8-a6c6-4808-b38e-9be6187af585",
   "metadata": {},
   "outputs": [
    {
     "name": "stdout",
     "output_type": "stream",
     "text": [
      "Help on function add in module __main__:\n",
      "\n",
      "add(a, b)\n",
      "    DocString for add func\n",
      "    a is param 1\n",
      "    b is param 2\n",
      "\n"
     ]
    },
    {
     "data": {
      "text/plain": [
       "\u001b[0;31mSignature:\u001b[0m \u001b[0madd\u001b[0m\u001b[0;34m(\u001b[0m\u001b[0ma\u001b[0m\u001b[0;34m,\u001b[0m \u001b[0mb\u001b[0m\u001b[0;34m)\u001b[0m\u001b[0;34m\u001b[0m\u001b[0;34m\u001b[0m\u001b[0m\n",
       "\u001b[0;31mDocstring:\u001b[0m\n",
       "DocString for add func\n",
       "a is param 1\n",
       "b is param 2\n",
       "\u001b[0;31mFile:\u001b[0m      /var/folders/k5/sy4g3yjd3gl3g9vbx7cjw3z00000gn/T/ipykernel_46310/2626263864.py\n",
       "\u001b[0;31mType:\u001b[0m      function"
      ]
     },
     "metadata": {},
     "output_type": "display_data"
    }
   ],
   "source": [
    "# +, -, *, //, %\n",
    "def add(a, b):\n",
    "    \"\"\"\n",
    "    DocString for add func\n",
    "    a and b are positional args\n",
    "    a is param 1\n",
    "    b is param 2\n",
    "    \"\"\"\n",
    "    print(a + b)\n",
    "\n",
    "add?\n",
    "help(add)"
   ]
  },
  {
   "cell_type": "code",
   "execution_count": 10,
   "id": "4b33e4f2-191b-47f6-8418-41081d6d3662",
   "metadata": {},
   "outputs": [
    {
     "name": "stdout",
     "output_type": "stream",
     "text": [
      "Rahul\n"
     ]
    },
    {
     "data": {
      "text/plain": [
       "NoneType"
      ]
     },
     "execution_count": 10,
     "metadata": {},
     "output_type": "execute_result"
    }
   ],
   "source": [
    "type(print(\"Rahul\"))"
   ]
  },
  {
   "cell_type": "code",
   "execution_count": 15,
   "id": "519e0f95-8c7b-4d0a-af30-c2f1d102fe82",
   "metadata": {},
   "outputs": [
    {
     "name": "stdout",
     "output_type": "stream",
     "text": [
      "11\n"
     ]
    }
   ],
   "source": [
    "x = add(5, 6)"
   ]
  },
  {
   "cell_type": "code",
   "execution_count": 17,
   "id": "2fae0615-4c3c-4ec2-8ff3-1209541decd2",
   "metadata": {},
   "outputs": [
    {
     "name": "stdout",
     "output_type": "stream",
     "text": [
      "None\n"
     ]
    }
   ],
   "source": [
    "print(x)"
   ]
  },
  {
   "cell_type": "code",
   "execution_count": 19,
   "id": "943622ac-2926-4599-a33e-c190e49df9d3",
   "metadata": {},
   "outputs": [
    {
     "name": "stdout",
     "output_type": "stream",
     "text": [
      "7\n"
     ]
    }
   ],
   "source": [
    "def add2(a,b):\n",
    "    return a + b\n",
    "y = add2(3, 4)\n",
    "print(y)"
   ]
  },
  {
   "cell_type": "code",
   "execution_count": 24,
   "id": "15358fea-11f6-4c3b-acfd-5846e31acdf8",
   "metadata": {},
   "outputs": [
    {
     "data": {
      "text/plain": [
       "(3, 4, 5)"
      ]
     },
     "execution_count": 24,
     "metadata": {},
     "output_type": "execute_result"
    }
   ],
   "source": [
    "# return multiple values\n",
    "def mynums(a,b,c):\n",
    "    return a,b,c\n",
    "mynums(3,4,5) # tuple"
   ]
  },
  {
   "cell_type": "code",
   "execution_count": 26,
   "id": "63b037a3-27a8-4163-ae72-ea702d14c157",
   "metadata": {},
   "outputs": [
    {
     "name": "stdout",
     "output_type": "stream",
     "text": [
      "3\n"
     ]
    }
   ],
   "source": [
    "# Unpacking tuple\n",
    "x, y, z = mynums(3, 4, 5)\n",
    "print(x)"
   ]
  },
  {
   "cell_type": "code",
   "execution_count": 38,
   "id": "f852710f-a6c4-4669-81e7-bd6fc79d5180",
   "metadata": {},
   "outputs": [
    {
     "name": "stdout",
     "output_type": "stream",
     "text": [
      "4\n"
     ]
    }
   ],
   "source": [
    "print(add2(3, b=1)) # first positional then keyword allowed\n",
    "# print(add2(b=3, 1)) # not allowed\n",
    "# print(add2(3, a=1)) # not allowed - imporper named arg as positional arg \"a\" is specified"
   ]
  },
  {
   "cell_type": "code",
   "execution_count": 40,
   "id": "b984bbdc-6e2b-4a93-a81e-53f87ec6eb02",
   "metadata": {},
   "outputs": [
    {
     "name": "stdout",
     "output_type": "stream",
     "text": [
      "Hit\n"
     ]
    }
   ],
   "source": [
    "name = \"Hit\"\n",
    "def defineName():\n",
    "    name = \"Vu\"\n",
    "    print(name)\n",
    "\n",
    "print(name)"
   ]
  },
  {
   "cell_type": "code",
   "execution_count": 44,
   "id": "82c494ca-b8dc-416e-b40e-c0b49aca56ea",
   "metadata": {},
   "outputs": [
    {
     "name": "stdout",
     "output_type": "stream",
     "text": [
      "Vu\n"
     ]
    },
    {
     "data": {
      "text/plain": [
       "'Vu'"
      ]
     },
     "execution_count": 44,
     "metadata": {},
     "output_type": "execute_result"
    }
   ],
   "source": [
    "def changeGlobalName():\n",
    "    global name\n",
    "    name = \"Vu\"\n",
    "    print(name)\n",
    "changeGlobalName()\n",
    "name"
   ]
  },
  {
   "cell_type": "code",
   "execution_count": 47,
   "id": "978d1a24-fa1b-4d4b-b95e-6f2a085f3c00",
   "metadata": {},
   "outputs": [
    {
     "data": {
      "text/plain": [
       "19"
      ]
     },
     "execution_count": 47,
     "metadata": {},
     "output_type": "execute_result"
    }
   ],
   "source": [
    "random = lambda x, y : x + y + 10\n",
    "random(4, 5)"
   ]
  },
  {
   "cell_type": "code",
   "execution_count": 48,
   "id": "27ccc6b2-f7ab-4a61-9c41-66675d7126f4",
   "metadata": {},
   "outputs": [
    {
     "data": {
      "text/plain": [
       "17"
      ]
     },
     "execution_count": 48,
     "metadata": {},
     "output_type": "execute_result"
    }
   ],
   "source": [
    "(lambda x, y : x + y + 10)(3, 4)"
   ]
  }
 ],
 "metadata": {
  "kernelspec": {
   "display_name": "Python 3 (ipykernel)",
   "language": "python",
   "name": "python3"
  },
  "language_info": {
   "codemirror_mode": {
    "name": "ipython",
    "version": 3
   },
   "file_extension": ".py",
   "mimetype": "text/x-python",
   "name": "python",
   "nbconvert_exporter": "python",
   "pygments_lexer": "ipython3",
   "version": "3.12.3"
  }
 },
 "nbformat": 4,
 "nbformat_minor": 5
}
