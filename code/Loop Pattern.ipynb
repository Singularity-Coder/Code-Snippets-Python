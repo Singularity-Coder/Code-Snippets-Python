{
 "cells": [
  {
   "cell_type": "code",
   "execution_count": 2,
   "id": "059ccdd6-ed72-4502-a3a2-7725f8cbbc40",
   "metadata": {},
   "outputs": [
    {
     "name": "stdout",
     "output_type": "stream",
     "text": [
      "####"
     ]
    }
   ],
   "source": [
    "x = 1\n",
    "while x <= 4:\n",
    "    print(\"#\", end=\"\")\n",
    "    x += 1"
   ]
  },
  {
   "cell_type": "code",
   "execution_count": 4,
   "id": "3d716bc8-690c-4196-989e-40f9762d300c",
   "metadata": {},
   "outputs": [
    {
     "name": "stdout",
     "output_type": "stream",
     "text": [
      "1\n",
      "4\n",
      "7\n",
      "10\n",
      "13\n",
      "16\n"
     ]
    }
   ],
   "source": [
    "for x in range(1, 17, 3):\n",
    "    print(x)"
   ]
  },
  {
   "cell_type": "code",
   "execution_count": 9,
   "id": "d547a477-d3ea-4fdf-ab72-afb5893e7fcc",
   "metadata": {},
   "outputs": [
    {
     "name": "stdin",
     "output_type": "stream",
     "text": [
      " 5\n"
     ]
    },
    {
     "name": "stdout",
     "output_type": "stream",
     "text": [
      "total tries: 1\n"
     ]
    }
   ],
   "source": [
    "count = 0\n",
    "while True:\n",
    "    x = int(input())\n",
    "    count += 1\n",
    "    if x == 5:\n",
    "        break\n",
    "print(f\"total tries: {count}\")"
   ]
  },
  {
   "cell_type": "code",
   "execution_count": 14,
   "id": "6ef2600c-f0cf-497a-9303-0cb7fa5b0433",
   "metadata": {},
   "outputs": [
    {
     "name": "stdin",
     "output_type": "stream",
     "text": [
      " 4\n"
     ]
    },
    {
     "name": "stdout",
     "output_type": "stream",
     "text": [
      "####\n",
      "####\n",
      "####\n",
      "####\n"
     ]
    }
   ],
   "source": [
    "N = int(input())\n",
    "i = 1\n",
    "while i <= N:\n",
    "    for x in range(1, 5):\n",
    "        print(\"#\", end=\"\")\n",
    "    print()\n",
    "    i += 1\n",
    "    "
   ]
  },
  {
   "cell_type": "code",
   "execution_count": 20,
   "id": "f71acea4-50ee-4a2d-9f55-e18a8c7cb3d2",
   "metadata": {},
   "outputs": [
    {
     "name": "stdin",
     "output_type": "stream",
     "text": [
      " 4\n"
     ]
    },
    {
     "name": "stdout",
     "output_type": "stream",
     "text": [
      "# # # # \n",
      "# # # # \n",
      "# # # # \n",
      "# # # # \n"
     ]
    }
   ],
   "source": [
    "N = int(input())\n",
    "for k in range(N):\n",
    "    for x in range(N):\n",
    "        print(\"#\", end=\" \")\n",
    "    print()\n",
    "\n",
    "    "
   ]
  },
  {
   "cell_type": "code",
   "execution_count": 25,
   "id": "298aa073-06ea-4981-8ef6-a877e1d1ddb0",
   "metadata": {},
   "outputs": [
    {
     "name": "stdin",
     "output_type": "stream",
     "text": [
      " S\n"
     ]
    },
    {
     "ename": "ValueError",
     "evalue": "invalid literal for int() with base 10: 'S'",
     "output_type": "error",
     "traceback": [
      "\u001b[0;31m---------------------------------------------------------------------------\u001b[0m",
      "\u001b[0;31mValueError\u001b[0m                                Traceback (most recent call last)",
      "Cell \u001b[0;32mIn[25], line 3\u001b[0m\n\u001b[1;32m      1\u001b[0m \u001b[38;5;66;03m# row handled by outer loop\u001b[39;00m\n\u001b[1;32m      2\u001b[0m \u001b[38;5;66;03m# col handled by inner loop\u001b[39;00m\n\u001b[0;32m----> 3\u001b[0m row \u001b[38;5;241m=\u001b[39m \u001b[38;5;28;43mint\u001b[39;49m\u001b[43m(\u001b[49m\u001b[38;5;28;43minput\u001b[39;49m\u001b[43m(\u001b[49m\u001b[43m)\u001b[49m\u001b[43m)\u001b[49m\n\u001b[1;32m      4\u001b[0m col \u001b[38;5;241m=\u001b[39m \u001b[38;5;28mint\u001b[39m(\u001b[38;5;28minput\u001b[39m())\n\u001b[1;32m      5\u001b[0m \u001b[38;5;28;01mfor\u001b[39;00m k \u001b[38;5;129;01min\u001b[39;00m \u001b[38;5;28mrange\u001b[39m(row):\n",
      "\u001b[0;31mValueError\u001b[0m: invalid literal for int() with base 10: 'S'"
     ]
    }
   ],
   "source": [
    "# row handled by outer loop\n",
    "# col handled by inner loop\n",
    "row = int(input())\n",
    "col = int(input())\n",
    "for k in range(row):\n",
    "    for x in range(col):\n",
    "        print(\"#\", end=\" \")\n",
    "    print()"
   ]
  },
  {
   "cell_type": "code",
   "execution_count": 26,
   "id": "d063cb64-680a-4f98-8bbc-dee507ab7f48",
   "metadata": {},
   "outputs": [
    {
     "name": "stdin",
     "output_type": "stream",
     "text": [
      " 3\n",
      " 4\n"
     ]
    },
    {
     "name": "stdout",
     "output_type": "stream",
     "text": [
      "# # # # \n",
      "# # # # \n",
      "# # # # \n"
     ]
    }
   ],
   "source": [
    "row = int(input())\n",
    "col = int(input())\n",
    "i = 0\n",
    "while i < row:\n",
    "    j = 0\n",
    "    while j < col:\n",
    "        print(\"#\", end=\" \")\n",
    "        j += 1\n",
    "    print()\n",
    "    i += 1"
   ]
  },
  {
   "cell_type": "code",
   "execution_count": 34,
   "id": "5e06e850-4b0e-4e79-a28c-d4b8fd3e7804",
   "metadata": {},
   "outputs": [
    {
     "name": "stdin",
     "output_type": "stream",
     "text": [
      " 222\n"
     ]
    },
    {
     "name": "stdout",
     "output_type": "stream",
     "text": [
      "1, 2, 3, 6, 37, 74, 111, 222, "
     ]
    }
   ],
   "source": [
    "# Find factors of num N\n",
    "N = int(input())\n",
    "for x in range(1, N + 1):\n",
    "    if N % x == 0:\n",
    "        print(x, end=\", \")\n",
    "    "
   ]
  },
  {
   "cell_type": "code",
   "execution_count": 38,
   "id": "9c42e455-2aab-4b3a-9824-a34e1249a4f0",
   "metadata": {},
   "outputs": [
    {
     "name": "stdin",
     "output_type": "stream",
     "text": [
      " 5\n",
      " 10\n"
     ]
    },
    {
     "name": "stdout",
     "output_type": "stream",
     "text": [
      "1, 5, "
     ]
    }
   ],
   "source": [
    "# Find factors of 5 & 10\n",
    "m = int(input())\n",
    "n = int(input())\n",
    "for x in range(1, min(m, n) + 1):\n",
    "    if m % x == 0 and n % x == 0:\n",
    "        print(x, end=\", \")"
   ]
  },
  {
   "cell_type": "code",
   "execution_count": 41,
   "id": "54fc86e5-f36b-4f8e-b19d-e80efe418ed6",
   "metadata": {},
   "outputs": [
    {
     "name": "stdin",
     "output_type": "stream",
     "text": [
      " 6\n",
      " 8\n"
     ]
    },
    {
     "name": "stdout",
     "output_type": "stream",
     "text": [
      "2\n"
     ]
    }
   ],
   "source": [
    "# Find HCF of 2 nums\n",
    "m = int(input())\n",
    "n = int(input())\n",
    "for x in range(min(m, n), 0, -1):\n",
    "    if m % x == 0 and n % x == 0:\n",
    "        print(x)\n",
    "        break"
   ]
  },
  {
   "cell_type": "code",
   "execution_count": null,
   "id": "67422dfa-e7f1-45cc-99d0-00e38be9624a",
   "metadata": {},
   "outputs": [],
   "source": [
    "# Find LCM of 2 nums\n",
    "m = int(input())\n",
    "n = int(input())\n",
    "for x in range(1, max(m, n)):\n",
    "    # check if m and n are primes\n",
    "    # else find factors"
   ]
  },
  {
   "cell_type": "code",
   "execution_count": null,
   "id": "872a4a9f-caf5-4ad9-814d-82cff1dab4e5",
   "metadata": {},
   "outputs": [],
   "source": [
    "# GCM"
   ]
  },
  {
   "cell_type": "code",
   "execution_count": 52,
   "id": "f02e1aba-5254-4cdb-82b8-61d84277bf7f",
   "metadata": {},
   "outputs": [
    {
     "data": {
      "text/plain": [
       "661778"
      ]
     },
     "execution_count": 52,
     "metadata": {},
     "output_type": "execute_result"
    }
   ],
   "source": [
    "int(\"00661778\")"
   ]
  },
  {
   "cell_type": "code",
   "execution_count": null,
   "id": "599053c4-4e91-478d-8399-896f4c39383d",
   "metadata": {},
   "outputs": [],
   "source": [
    "T = int(input())\n",
    "\n",
    "for x in range(T):\n",
    "    A = int(input())\n",
    "    B = int(input())\n",
    "    # 3 -> 3, 6, 9, 12, 15, 18 \n",
    "    # 2 -> 2, 4, 6, 8, 10, 12\n",
    "    total = (A * B) + 1\n",
    "    fact_a = []\n",
    "    fact_b = []\n",
    "    for y in range(1, max(A, B) + 1):\n",
    "        fact_a.append(A * y)\n",
    "        fact_b.append(B * y)\n",
    "\n",
    "    print(fact_a)\n",
    "    print(fact_b)\n",
    "    \n",
    "    final = 0\n",
    "    for z in fact_a:\n",
    "        for z1 in fact_b:\n",
    "            if z == z1:\n",
    "                final = z\n",
    "                break\n",
    "        if final != 0:\n",
    "            break\n",
    "    \n",
    "    print(final)\n",
    "                "
   ]
  },
  {
   "cell_type": "code",
   "execution_count": 33,
   "id": "74e536d8-eeb9-46d7-b97b-4ac95d3c3707",
   "metadata": {},
   "outputs": [
    {
     "name": "stdout",
     "output_type": "stream",
     "text": [
      "2\n"
     ]
    }
   ],
   "source": [
    "count = 0\n",
    "full_str = \"WoW!ItSCoOWoWW\"\n",
    "for x in full_str:\n",
    "    pos = full_str.find(\"oW\")\n",
    "    if pos != -1:\n",
    "        count += 1\n",
    "        full_str = full_str[:pos] + full_str[pos + 1:]\n",
    "print(count)"
   ]
  }
 ],
 "metadata": {
  "kernelspec": {
   "display_name": "Python 3 (ipykernel)",
   "language": "python",
   "name": "python3"
  },
  "language_info": {
   "codemirror_mode": {
    "name": "ipython",
    "version": 3
   },
   "file_extension": ".py",
   "mimetype": "text/x-python",
   "name": "python",
   "nbconvert_exporter": "python",
   "pygments_lexer": "ipython3",
   "version": "3.12.3"
  }
 },
 "nbformat": 4,
 "nbformat_minor": 5
}
