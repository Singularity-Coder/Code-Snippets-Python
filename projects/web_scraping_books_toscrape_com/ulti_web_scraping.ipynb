{
 "cells": [
  {
   "cell_type": "markdown",
   "id": "789ee582-4e9b-463e-8794-014269b2a5f7",
   "metadata": {},
   "source": [
    "# Web Scraping\n",
    "\n",
    "Web scraping for academic or personal use as per AI:\n",
    "\n",
    "1. Wikipedia\n",
    "2. Books To Scrape (https://books.toscrape.com/)\n",
    "3. Quotes To Scrape (https://quotes.toscrape.com/)\n",
    "4. Scrape This Site (http://www.scrapethissite.com/)\n",
    "5. IMDb (with restrictions)\n",
    "6. GitHub (public repositories)\n",
    "7. Data.gov\n",
    "8. Craigslist (with limitations)\n",
    "9. Amazon product listings (with restrictions)\n",
    "10. The New York Times Developer Network (with API key)\n",
    "11. OpenStreetMap\n",
    "12. Goodreads (with API)\n",
    "13. National Weather Service\n",
    "1. **Common Crawl** - A public repository of web crawl data that can be freely accessed and used.\n",
    "2. **Wikipedia** - The content is freely available under a Creative Commons license, and scraping is allowed within certain guidelines.\n",
    "3. **OpenWeatherMap** - Provides weather data, and they offer a free tier API which you can scrape with permission.\n",
    "4. **Reddit** - Allows scraping for non-commercial purposes as long as it abides by their API usage policy.\n",
    "5. **Twitter** - Permits scraping through their API for personal use, subject to rate limits.\n",
    "6. **IMDB** - Has a public dataset available for scraping for non-commercial use.\n",
    "7. **GitHub** - Public repositories can be scraped, but there are rate limits and terms of service to consider.\n",
    "8. **News websites with public APIs** - Such as The Guardian and The New York Times, often provide APIs for accessing their data.\n",
    "\n",
    "Before scraping any website:\n",
    "\n",
    "1. Checking the site's robots.txt file\n",
    "2. Reviewing their terms of service\n",
    "3. Using APIs when available\n",
    "4. Respecting rate limits and not overloading servers\n",
    "5. Identifying your scraper in the user-agent string\n",
    "6. Avoid scraping login-protected content or data behind paywalls without permission.\n",
    "7. For academic or research purposes, contacting the website administrators to seek explicit permission is also advisable.\n"
   ]
  },
  {
   "cell_type": "markdown",
   "id": "d6dc33bd-7bc8-49c6-b7d5-614138f9a659",
   "metadata": {},
   "source": [
    "### Import scraping libs"
   ]
  },
  {
   "cell_type": "code",
   "execution_count": 137,
   "id": "11514453-98c5-4a31-aae4-a14056c0b84e",
   "metadata": {},
   "outputs": [],
   "source": [
    "import requests\n",
    "from bs4 import BeautifulSoup as bs # can fetch data from html tags\n",
    "from urllib.parse import urljoin\n",
    "import time"
   ]
  },
  {
   "cell_type": "markdown",
   "id": "17e9d50b-d0b9-44bf-8762-78b40c097326",
   "metadata": {},
   "source": [
    "### Demo"
   ]
  },
  {
   "cell_type": "code",
   "execution_count": 69,
   "id": "f19f0710-b140-4c8c-b670-7501d00aad23",
   "metadata": {},
   "outputs": [
    {
     "name": "stdout",
     "output_type": "stream",
     "text": [
      "['The Great Gatsby', 'To Kill a Mockingbird', '1984', 'The Testaments', 'Normal People']\n"
     ]
    }
   ],
   "source": [
    "html_doc = \"\"\"\n",
    "<!DOCTYPE html>\n",
    "<html>\n",
    "<head>\n",
    "    <title>Book Store</title>\n",
    "</head>\n",
    "<body>\n",
    "    <div id=\"bestsellers\">\n",
    "        <h2>Best Selling Books</h2>\n",
    "        <ul>\n",
    "            <li><a href=\"/book1\">The Great Gatsby</a></li>\n",
    "            <li><a href=\"/book2\">To Kill a Mockingbird</a></li>\n",
    "            <li><a href=\"/book3\">1984</a></li>\n",
    "        </ul>\n",
    "    </div>\n",
    "    <div id=\"new-releases\">\n",
    "        <h2>New Releases</h2>\n",
    "        <ul>\n",
    "            <li><a href=\"/book4\">The Testaments</a></li>\n",
    "            <li><a href=\"/book5\">Normal People</a></li>\n",
    "        </ul>\n",
    "    </div>\n",
    "</body>\n",
    "</html>\n",
    "\"\"\"\n",
    "\n",
    "soup = bs(html_doc, 'html.parser')\n",
    "titles = [a.get_text() for a in soup.find_all('a')]\n",
    "print(titles)"
   ]
  },
  {
   "cell_type": "markdown",
   "id": "93be360c-82f2-4866-a0a3-c15979979307",
   "metadata": {},
   "source": [
    "### Get website data"
   ]
  },
  {
   "cell_type": "code",
   "execution_count": 52,
   "id": "abbb47b0-7a1c-4617-9678-89bd9d6953ec",
   "metadata": {},
   "outputs": [
    {
     "name": "stdout",
     "output_type": "stream",
     "text": [
      "Success\n"
     ]
    }
   ],
   "source": [
    "base_url = \"https://books.toscrape.com/index.html\"\n",
    "book_list = requests.get(base_url)\n",
    "if result.status_code == 200:\n",
    "    print(\"Success\")\n",
    "else:\n",
    "    print(f\"Failed: {book_list.status_code}\")"
   ]
  },
  {
   "cell_type": "markdown",
   "id": "8bedc7a2-580d-4816-b8d8-397fd0371267",
   "metadata": {},
   "source": [
    "### Verify received data"
   ]
  },
  {
   "cell_type": "code",
   "execution_count": 53,
   "id": "77a5bb97-a9b9-496a-adda-7e476ad092c2",
   "metadata": {},
   "outputs": [
    {
     "name": "stdout",
     "output_type": "stream",
     "text": [
      "<!DOCTYPE html>\n",
      "<!--[if lt IE 7]>      <html lang=\"en-us\" class=\"no-js lt-ie9 lt-ie8 lt-ie7\"> <![endif]-->\n",
      "<!--[if IE 7]>         <html lang=\"en-us\" class=\"no-js lt-ie9 lt-ie8\"> <![endif]-->\n",
      "<!--[if IE 8]>         <html lang=\"en-us\" class=\"no-js lt-ie9\"> <![endif]-->\n",
      "<!--[if gt IE 8]><!-->\n",
      "<html class=\"no-js\" lang=\"en-us\">\n",
      " <!--<![endif]-->\n",
      " <head>\n",
      "  <title>\n",
      "   All products | Books to Scrape - Sandbox\n",
      "  </title>\n",
      "  &lt;meta http-equiv=\"content-type\" content=\"text/html; charset=UTF-8\" /\n",
      " </head>\n",
      "</html>\n",
      "\n"
     ]
    }
   ],
   "source": [
    "print(bs(book_list.content[:500], 'html.parser').prettify())"
   ]
  },
  {
   "cell_type": "markdown",
   "id": "ae3f0981-bf1e-4ca6-a313-779634db39e7",
   "metadata": {},
   "source": [
    "### Parse received data"
   ]
  },
  {
   "cell_type": "code",
   "execution_count": 80,
   "id": "26e9bc10-214a-4df7-8362-02fb2ad89510",
   "metadata": {},
   "outputs": [],
   "source": [
    "# bs?"
   ]
  },
  {
   "cell_type": "code",
   "execution_count": 79,
   "id": "dc9273cf-cd83-42dd-b292-ef5e63ae60bd",
   "metadata": {},
   "outputs": [],
   "source": [
    "# This crawls the html page we downloaded\n",
    "# pass parser = \"html.parser\" if allowed & necessary\n",
    "soup = bs(\n",
    "    markup = book_list.content\n",
    ")"
   ]
  },
  {
   "cell_type": "code",
   "execution_count": 57,
   "id": "677e2d1f-37d2-4ade-ae19-c7b5d38bfef3",
   "metadata": {},
   "outputs": [
    {
     "name": "stdout",
     "output_type": "stream",
     "text": [
      "20\n",
      "<li class=\"col-xs-6 col-sm-4 col-md-3 col-lg-3\">\n",
      "<article class=\"product_pod\">\n",
      "<div class=\"image_container\">\n",
      "<a href=\"catalogue/tipping-the-velvet_999/index.html\"><img alt=\"Tipping the Velvet\" class=\"thumbnail\" src=\"media/cache/26/0c/260c6ae16bce31c8f8c95daddd9f4a1c.jpg\"/></a>\n",
      "</div>\n",
      "<p class=\"star-rating One\">\n",
      "<i class=\"icon-star\"></i>\n",
      "<i class=\"icon-star\"></i>\n",
      "<i class=\"icon-star\"></i>\n",
      "<i class=\"icon-star\"></i>\n",
      "<i class=\"icon-star\"></i>\n",
      "</p>\n",
      "<h3><a href=\"catalogue/tipping-the-velvet_999/index.html\" title=\"Tipping the Velvet\">Tipping the Velvet</a></h3>\n",
      "<div class=\"product_price\">\n",
      "<p class=\"price_color\">£53.74</p>\n",
      "<p class=\"instock availability\">\n",
      "<i class=\"icon-ok\"></i>\n",
      "    \n",
      "        In stock\n",
      "    \n",
      "</p>\n",
      "<form>\n",
      "<button class=\"btn btn-primary btn-block\" data-loading-text=\"Adding...\" type=\"submit\">Add to basket</button>\n",
      "</form>\n",
      "</div>\n",
      "</article>\n",
      "</li>\n"
     ]
    }
   ],
   "source": [
    "books = soup.find_all(name = \"li\", class_ = \"col-xs-6 col-sm-4 col-md-3 col-lg-3\")\n",
    "print(len(books))\n",
    "print(books[1])"
   ]
  },
  {
   "cell_type": "markdown",
   "id": "2c71cc98-a7ad-4c55-823a-d782889e0d37",
   "metadata": {},
   "source": [
    "### Get first book meta data"
   ]
  },
  {
   "cell_type": "code",
   "execution_count": 58,
   "id": "8f32e767-de83-454e-be68-04f237cbb6bb",
   "metadata": {},
   "outputs": [
    {
     "data": {
      "text/plain": [
       "<a href=\"catalogue/tipping-the-velvet_999/index.html\"><img alt=\"Tipping the Velvet\" class=\"thumbnail\" src=\"media/cache/26/0c/260c6ae16bce31c8f8c95daddd9f4a1c.jpg\"/></a>"
      ]
     },
     "execution_count": 58,
     "metadata": {},
     "output_type": "execute_result"
    }
   ],
   "source": [
    "# Search for hyperlink tag\n",
    "book_one_anchor = books[1].findChild(\"a\")\n",
    "book_one_anchor"
   ]
  },
  {
   "cell_type": "code",
   "execution_count": 59,
   "id": "de55af39-2c37-4fa9-854a-ca0529d0c445",
   "metadata": {},
   "outputs": [
    {
     "data": {
      "text/plain": [
       "'catalogue/tipping-the-velvet_999/index.html'"
      ]
     },
     "execution_count": 59,
     "metadata": {},
     "output_type": "execute_result"
    }
   ],
   "source": [
    "# Extract book detail page end point link\n",
    "book_one_url = book_one_anchor.get(\"href\")\n",
    "book_one_url"
   ]
  },
  {
   "cell_type": "code",
   "execution_count": 61,
   "id": "2c1bd54e-061b-4968-8e21-ee7d7e48e065",
   "metadata": {},
   "outputs": [
    {
     "data": {
      "text/plain": [
       "'https://books.toscrape.com/catalogue/tipping-the-velvet_999/index.html'"
      ]
     },
     "execution_count": 61,
     "metadata": {},
     "output_type": "execute_result"
    }
   ],
   "source": [
    "book_one_url = urljoin(base_url, book_one_url)\n",
    "book_one_url"
   ]
  },
  {
   "cell_type": "markdown",
   "id": "f72eb25b-f218-48e6-9702-eb427d6815f9",
   "metadata": {},
   "source": [
    "### Get first book HTML code from link"
   ]
  },
  {
   "cell_type": "code",
   "execution_count": 108,
   "id": "78db5cfc-933f-4161-bef8-ea9fad68a742",
   "metadata": {},
   "outputs": [
    {
     "name": "stdout",
     "output_type": "stream",
     "text": [
      "ivated by the music hall phenomenon Kitty Butler, a male impersonator extraordinaire treading the boards in Canterbury. Through a friend at the box office, Nan manages to visit all her shows and finally meet her heroine. Soon after, she becomes Kitty's \"Erotic and absorbing...Written with starling power.\"--\"The New York Times Book Review \" Nan King, an oyster girl, is captivated by the music hall phenomenon Kitty Butler, a male impersonator extraordinaire treading the boards in Canterbury. Through a friend at the box office, Nan manages to visit all her shows and finally meet her heroine. Soon after, she becomes Kitty's dresser and the two head for the bright lights of Leicester Square where they begin a glittering career as music-hall stars in an all-singing and dancing double act. At the same time, behind closed doors, they admit their attraction to each other and their affair begins. ...more\n",
      "<div class=\"sub-header\">\n",
      " <h2>\n",
      "  Product Information\n",
      " </h2>\n",
      "</div>\n",
      "<table class=\"table table-striped\">\n",
      " <tr>\n",
      "  <th>\n",
      "   UPC\n",
      "  </th>\n",
      "  <td>\n",
      "   90fa61229261140a\n",
      "  </td>\n",
      " </tr>\n",
      " <tr>\n",
      "  <th>\n",
      "   Product Type\n",
      "  </th>\n",
      "  <td>\n",
      "   Books\n",
      "  </td>\n",
      " </tr>\n",
      " <tr>\n",
      "  <th>\n",
      "   Price (excl. tax)\n",
      "  </th>\n",
      "  <td>\n",
      "   £53.74\n",
      "  </td>\n",
      " </tr>\n",
      " <tr>\n",
      "  <th>\n",
      "   Price (incl. tax)\n",
      "  </th>\n",
      "  <td>\n",
      "   £53.74\n",
      "  </td>\n",
      " </tr>\n",
      " <tr>\n",
      "  <th>\n",
      "   Tax\n",
      "  </th>\n",
      "  <td>\n",
      "   £0.00\n",
      "  </td>\n",
      " </tr>\n",
      " <tr>\n",
      "  <th>\n",
      "   Availability\n",
      "  </th>\n",
      "  <td>\n",
      "   In stock (20 available)\n",
      "  </td>\n",
      " </tr>\n",
      " <tr>\n",
      "  <th>\n",
      "   Number of reviews\n",
      "  </th>\n",
      "  <td>\n",
      "   0\n",
      "  </td>\n",
      " </tr>\n",
      "</table>\n",
      "<section>\n",
      " <div class=\"sub-header\" id=\"reviews\">\n",
      " </div>\n",
      "</section>\n",
      "<div class=\"sub-header\">\n",
      " <h2>\n",
      "  Products you recently viewed\n",
      " </h2>\n",
      "</div>\n",
      "<ul class=\"row\">\n",
      " <li class=\"col-xs-6 col-sm-4 col-md-3 col-lg-3\">\n",
      "  <article class=\"product_pod\">\n",
      "   <div class=\"image_container\">\n",
      "    <a href=\"../a-light-in-the-attic_1000/index.html\">\n",
      "     <img alt=\"A Light in the Attic\" class=\"thumbnail\" src=\"../../media/cache/2c/da/2cdad67c44b002e7ead0cc35693c0e8b.jpg\"/>\n",
      "    </a>\n",
      "   </div>\n",
      "   <p class=\"star-rating Three\">\n",
      "    <i class=\"icon-star\">\n",
      "    </i>\n",
      "    <i class=\"icon-star\">\n",
      "    </i>\n",
      "    <i class=\"icon-star\">\n",
      "    </i>\n",
      "    <i class=\"icon-star\">\n",
      "    </i>\n",
      "    <i class=\"icon-star\">\n",
      "    </i>\n",
      "   </p>\n",
      "   <h3>\n",
      "    <a href=\"../a-light-in-the-attic_1000/index.html\" title=\"A Light in the Attic\">\n",
      "     A Light in the ...\n",
      "    </a>\n",
      "   </h3>\n",
      "   <div class=\"product_price\">\n",
      "    <p class=\"price_color\">\n",
      "     £51.77\n",
      "    </p>\n",
      "    <p class=\"instock availability\">\n",
      "     <i class=\"icon-ok\">\n",
      "     </i>\n",
      "     In stock\n",
      "    </p>\n",
      "    <form>\n",
      "     <button class=\"btn btn-primary btn-block\" data-loading-text=\"Adding...\" type=\"submit\">\n",
      "      Add to basket\n",
      "     </button>\n",
      "    </form>\n",
      "   </div>\n",
      "  </article>\n",
      " </li>\n",
      "</ul>\n",
      "<!-- End of product page -->\n",
      "<footer class=\"footer container-fluid\">\n",
      "</footer>\n",
      "<!-- jQuery -->\n",
      "<script src=\"http://ajax.googleapis.com/ajax/libs/jquery/1.9.1/jquery.min.js\">\n",
      "</script>\n",
      "<script>\n",
      " window.jQuery || document.write('<script src=\"../../static/oscar/js/jquery/jquery-1.9.1.min.js\"><\\/script>')\n",
      "</script>\n",
      "<!-- Twitter Bootstrap -->\n",
      "<script src=\"../../static/oscar/js/bootstrap3/bootstrap.min.js\" type=\"text/javascript\">\n",
      "</script>\n",
      "<!-- Oscar -->\n",
      "<script charset=\"utf-8\" src=\"../../static/oscar/js/oscar/ui.js\" type=\"text/javascript\">\n",
      "</script>\n",
      "<script charset=\"utf-8\" src=\"../../static/oscar/js/bootstrap-datetimepicker/bootstrap-datetimepicker.js\" type=\"text/javascript\">\n",
      "</script>\n",
      "<script charset=\"utf-8\" src=\"../../static/oscar/js/bootstrap-datetimepicker/locales/bootstrap-datetimepicker.all.js\" type=\"text/javascript\">\n",
      "</script>\n",
      "<script type=\"text/javascript\">\n",
      " $(function() {\n",
      "                \n",
      "    \n",
      "    oscar.init();\n",
      "\n",
      "            });\n",
      "</script>\n",
      "<!-- Version: N/A -->\n",
      "\n"
     ]
    }
   ],
   "source": [
    "# Extract details webpage html data\n",
    "the_book_one_page = requests.get(book_one_url)\n",
    "print(bs(the_book_one_page.content[6000:len(the_book_one_page.content)], 'html.parser').prettify())"
   ]
  },
  {
   "cell_type": "code",
   "execution_count": 89,
   "id": "5b473e77-6db1-47c7-8e4a-76546433aeaf",
   "metadata": {},
   "outputs": [
    {
     "data": {
      "text/plain": [
       "'Tipping the Velvet'"
      ]
     },
     "execution_count": 89,
     "metadata": {},
     "output_type": "execute_result"
    }
   ],
   "source": [
    "book_one_soup = bs(markup = the_book_one_page.content)\n",
    "title = book_one_soup.find(\"h1\")\n",
    "title.text"
   ]
  },
  {
   "cell_type": "code",
   "execution_count": 95,
   "id": "49bcd135-dc24-4022-9165-81830e94cc47",
   "metadata": {},
   "outputs": [],
   "source": [
    "book_one_table = book_one_soup.find_all(\"tr\")"
   ]
  },
  {
   "cell_type": "code",
   "execution_count": 97,
   "id": "9ab7f20b-61e5-4ea6-a0f1-b8c1dff25623",
   "metadata": {},
   "outputs": [
    {
     "name": "stdout",
     "output_type": "stream",
     "text": [
      "[<tr>\n",
      "<th>UPC</th><td>90fa61229261140a</td>\n",
      "</tr>, <tr>\n",
      "<th>Product Type</th><td>Books</td>\n",
      "</tr>, <tr>\n",
      "<th>Price (excl. tax)</th><td>£53.74</td>\n",
      "</tr>, <tr>\n",
      "<th>Price (incl. tax)</th><td>£53.74</td>\n",
      "</tr>, <tr>\n",
      "<th>Tax</th><td>£0.00</td>\n",
      "</tr>, <tr>\n",
      "<th>Availability</th>\n",
      "<td>In stock (20 available)</td>\n",
      "</tr>, <tr>\n",
      "<th>Number of reviews</th>\n",
      "<td>0</td>\n",
      "</tr>]\n",
      "\n",
      "<tr>\n",
      "<th>UPC</th><td>90fa61229261140a</td>\n",
      "</tr>\n",
      "\n",
      "7\n"
     ]
    }
   ],
   "source": [
    "print(book_one_table, end = \"\\n\\n\")\n",
    "print(book_one_table[0], end = \"\\n\\n\") # Key Value Pair\n",
    "print(len(book_one_table))"
   ]
  },
  {
   "cell_type": "code",
   "execution_count": 115,
   "id": "663c39f4-165f-4d74-bdc5-7290d1713063",
   "metadata": {},
   "outputs": [
    {
     "data": {
      "text/plain": [
       "{'Title': <h1>Tipping the Velvet</h1>,\n",
       " <th>UPC</th>: <td>90fa61229261140a</td>,\n",
       " <th>Product Type</th>: <td>Books</td>,\n",
       " <th>Price (excl. tax)</th>: <td>£53.74</td>,\n",
       " <th>Price (incl. tax)</th>: <td>£53.74</td>,\n",
       " <th>Tax</th>: <td>£0.00</td>,\n",
       " <th>Availability</th>: <td>In stock (20 available)</td>,\n",
       " <th>Number of reviews</th>: <td>0</td>}"
      ]
     },
     "execution_count": 115,
     "metadata": {},
     "output_type": "execute_result"
    }
   ],
   "source": [
    "# Extract data from HTML and add it to dictionary\n",
    "book_one_dict = {\n",
    "    \"Title\" : title\n",
    "}\n",
    "for book in book_one_table:\n",
    "    key = book.find(\"th\")\n",
    "    value = book.find(\"td\")\n",
    "    book_one_dict[key] = value\n",
    "\n",
    "book_one_dict"
   ]
  },
  {
   "cell_type": "markdown",
   "id": "ced23d40-949b-47bb-9173-3e44f114a294",
   "metadata": {},
   "source": [
    "### Create a function to get HTML code from link"
   ]
  },
  {
   "cell_type": "code",
   "execution_count": 131,
   "id": "5d467a88-fc58-4c94-b32d-6f350b26c344",
   "metadata": {},
   "outputs": [],
   "source": [
    "# Encapsulate all of the above code in a single function\n",
    "def scrape_book(book_url):\n",
    "    book_page = requests.get(book_url)\n",
    "    book_soup = bs(book_page.content)\n",
    "\n",
    "    # store data in dict\n",
    "    book_dict = {}\n",
    "\n",
    "    title = book_soup.find(\"h1\").text\n",
    "    description = book_soup.find(\"p\").text\n",
    "    book_dict[\"title\"] = title\n",
    "    # book_dict[\"description\"] = description\n",
    "\n",
    "    book_table_data = book_soup.find_all(\"tr\")\n",
    "\n",
    "    # for product info iterate and get all key-value pairs\n",
    "    for book in book_table_data:\n",
    "        key = book.find(\"th\").text\n",
    "        value = book.find(\"td\").text\n",
    "\n",
    "        book_dict[key] = value\n",
    "\n",
    "    return book_dict"
   ]
  },
  {
   "cell_type": "code",
   "execution_count": 130,
   "id": "ca01b6b6-6106-4839-9e07-b8acf646a01a",
   "metadata": {},
   "outputs": [
    {
     "data": {
      "text/plain": [
       "{'title': 'A Light in the Attic',\n",
       " 'description': '£51.77',\n",
       " 'UPC': 'a897fe39b1053632',\n",
       " 'Product Type': 'Books',\n",
       " 'Price (excl. tax)': '£51.77',\n",
       " 'Price (incl. tax)': '£51.77',\n",
       " 'Tax': '£0.00',\n",
       " 'Availability': 'In stock (22 available)',\n",
       " 'Number of reviews': '0'}"
      ]
     },
     "execution_count": 130,
     "metadata": {},
     "output_type": "execute_result"
    }
   ],
   "source": [
    "# Test the method with dummy url\n",
    "scrape_book(\"http://books.toscrape.com/catalogue/a-light-in-the-attic_1000/index.html\")"
   ]
  },
  {
   "cell_type": "markdown",
   "id": "d2e5571f-e136-4ae7-b1c3-1c836d675041",
   "metadata": {},
   "source": [
    "### Create a function to scrape the entire webpage"
   ]
  },
  {
   "cell_type": "code",
   "execution_count": 147,
   "id": "e6bab72d-4f2b-4ccd-9482-f45af4996aa2",
   "metadata": {},
   "outputs": [],
   "source": [
    "book_list = []\n",
    "def scrape_page(base_url):\n",
    "    page = requests.get(base_url)\n",
    "    page_soup = bs(page.content)\n",
    "    \n",
    "    books = page_soup.find_all(name = \"li\", class_ = \"col-xs-6 col-sm-4 col-md-3 col-lg-3\")\n",
    "\n",
    "    for book in books:\n",
    "        relative_path = book.findChild(\"a\").get(\"href\")\n",
    "        book_url = urljoin(base_url, relative_path)\n",
    "        book_data = scrape_book(book_url)\n",
    "        book_list.append(book_data)\n",
    "\n",
    "    next_page_url = page_soup.find(name = \"li\", class_ = \"next\").findChild(\"a\").get(\"href\")\t\n",
    "\n",
    "    # Wait for 5 seconds before making next call\n",
    "    time.sleep(5) \n",
    "\n",
    "    try:\n",
    "        scrape_page(urljoin(base_url, next_page_url))\n",
    "    except:\n",
    "        pass"
   ]
  },
  {
   "cell_type": "code",
   "execution_count": 148,
   "id": "345635ad-b177-4cfb-b745-48728d2914f3",
   "metadata": {},
   "outputs": [
    {
     "data": {
      "text/plain": [
       "1000"
      ]
     },
     "execution_count": 148,
     "metadata": {},
     "output_type": "execute_result"
    }
   ],
   "source": [
    "# fetch all books from all pages\n",
    "scrape_page('http://books.toscrape.com/index.html')\n",
    "len(book_list)"
   ]
  },
  {
   "cell_type": "code",
   "execution_count": null,
   "id": "bf194a97-1a9c-410e-ad9c-588ba4739d04",
   "metadata": {},
   "outputs": [],
   "source": []
  }
 ],
 "metadata": {
  "kernelspec": {
   "display_name": "Python 3 (ipykernel)",
   "language": "python",
   "name": "python3"
  },
  "language_info": {
   "codemirror_mode": {
    "name": "ipython",
    "version": 3
   },
   "file_extension": ".py",
   "mimetype": "text/x-python",
   "name": "python",
   "nbconvert_exporter": "python",
   "pygments_lexer": "ipython3",
   "version": "3.12.3"
  }
 },
 "nbformat": 4,
 "nbformat_minor": 5
}
